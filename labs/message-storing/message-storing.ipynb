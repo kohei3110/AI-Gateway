{
 "cells": [
  {
   "cell_type": "markdown",
   "metadata": {},
   "source": [
    "# APIM ❤️ OpenAI\n",
    "\n",
    "## メッセージ保存ラボ\n",
    "![flow](../../images/message-storing.gif)\n",
    "\n",
    "[イベントハブへのログ](https://learn.microsoft.com/en-us/azure/api-management/log-to-eventhub-policy)ポリシーを通じて、メッセージの詳細をCosmos DBに保存するテスト用プレイグラウンド。このポリシーを使用すると、DBに保存するデータ（モデル、リージョン、プロンプト、完了、トークン、安全フィルターなど）を簡単に制御できます。\n",
    "\n",
    "### 結果\n",
    "![result](result.png)\n",
    "\n",
    "### 目次\n",
    "- [0️⃣ ノートブック変数の初期化](#0)\n",
    "- [1️⃣ Azureリソースグループの作成](#1)\n",
    "- [2️⃣ 🦾 Bicepを使用したデプロイの作成](#2)\n",
    "- [3️⃣ デプロイの出力を取得](#3)\n",
    "- [🧪 直接HTTPコールを使用したAPIのテスト](#requests)\n",
    "- [🧪 Azure OpenAI Python SDKを使用したAPIのテスト](#sdk)\n",
    "- [🔍 CosmosDBアイテムの分析](#cosmosdb)\n",
    "- [📊 インサイトの抽出とデータの可視化](#fabric)\n",
    "- [🗑️ リソースのクリーンアップ](#clean)\n",
    "\n",
    "### 前提条件\n",
    "- [Python 3.8以降のバージョン](https://www.python.org/)がインストールされていること\n",
    "- [Pandasライブラリ](https://pandas.pydata.org/)とazure-cosmosライブラリがインストールされていること\n",
    "- [VS Code](https://code.visualstudio.com/)がインストールされ、[Jupyterノートブック拡張機能](https://marketplace.visualstudio.com/items?itemName=ms-toolsai.jupyter)が有効になっていること\n",
    "- [Azure CLI](https://learn.microsoft.com/en-us/cli/azure/install-azure-cli)がインストールされていること\n",
    "- Contributor権限を持つ[Azureサブスクリプション](https://azure.microsoft.com/en-us/free/)があること\n",
    "- [Azure OpenAIへのアクセス](https://aka.ms/oai/access)が許可されていること、またはモックサービスを有効にすること\n",
    "- [Azure CLIでAzureにサインイン](https://learn.microsoft.com/en-us/cli/azure/authenticate-azure-cli-interactively)していること"
   ]
  },
  {
   "cell_type": "markdown",
   "metadata": {},
   "source": [
    "<a id='0'></a>\n",
    "### 0️⃣ ノートブック変数の初期化\n",
    "\n",
    "- リソースはサブスクリプションIDに基づいた一意の文字列でサフィックスされます\n",
    "- ```mock_webapps``` 変数は、モック機能のためにデプロイされたWebアプリのリストを設定します。モックサービスでOpenAIの動作をシミュレートするために、```openai_resources``` リストをクリアします。\n",
    "- ロケーションパラメータは、[Azureリージョンごとの製品の利用可能性](https://azure.microsoft.com/en-us/explore/global-infrastructure/products-by-region/?cdn=disable&products=cognitive-services,api-management)に基づいて調整してください。\n",
    "- OpenAIモデルとバージョンは、[リージョンごとの利用可能性](https://learn.microsoft.com/en-us/azure/ai-services/openai/concepts/models)に基づいて調整してください。"
   ]
  },
  {
   "cell_type": "code",
   "execution_count": null,
   "metadata": {
    "metadata": {}
   },
   "outputs": [],
   "source": [
    "import os\n",
    "import json\n",
    "import datetime\n",
    "import requests\n",
    "\n",
    "deployment_name = os.path.basename(os.path.dirname(globals()['__vsc_ipynb_file__']))\n",
    "resource_group_name = f\"lab-{deployment_name}\" # change the name to match your naming style\n",
    "resource_group_location = \"westeurope\"\n",
    "apim_resource_name = \"apim\"\n",
    "apim_resource_location = \"westeurope\"\n",
    "apim_resource_sku = \"Basicv2\"\n",
    "openai_resources = [ {\"name\": \"openai1\", \"location\": \"swedencentral\"}, {\"name\": \"openai2\", \"location\": \"francecentral\"} ] # list of OpenAI resources to deploy. Clear this list to use only the mock resources\n",
    "openai_resources_sku = \"S0\"\n",
    "openai_model_name = \"gpt-35-turbo\"\n",
    "openai_model_version = \"0613\"\n",
    "openai_deployment_name = \"gpt-35-turbo\"\n",
    "openai_api_version = \"2024-02-01\"\n",
    "openai_specification_url='https://raw.githubusercontent.com/Azure/azure-rest-api-specs/main/specification/cognitiveservices/data-plane/AzureOpenAI/inference/stable/' + openai_api_version + '/inference.json'\n",
    "openai_backend_pool = \"openai-backend-pool\"\n",
    "mock_backend_pool = \"mock-backend-pool\"\n",
    "mock_webapps = [ {\"name\": \"openaimock1\", \"endpoint\": \"https://openaimock1.azurewebsites.net\"}, {\"name\": \"openaimock2\", \"endpoint\": \"https://openaimock2.azurewebsites.net\"} ]\n",
    "\n",
    "log_analytics_name = \"workspace\"\n",
    "app_insights_name = 'insights'\n",
    "\n",
    "eventhub_namespace_name = \"eventhub\"\n",
    "eventhub_logger_name = \"eventhub-logger\"\n",
    "eventhub_name = \"openai-messages\"\n",
    "streamingjobs_name = \"streamingjobs\"\n",
    "cosmosdb_account_name = \"cosmosdb\"\n",
    "cosmosdb_database_name = \"openaidb\"\n",
    "cosmosdb_container_name = \"messages\"\n"
   ]
  },
  {
   "cell_type": "markdown",
   "metadata": {},
   "source": [
    "<a id='1'></a>\n",
    "### 1️⃣ Azureリソースグループの作成\n",
    "このラボでデプロイされるすべてのリソースは、指定されたリソースグループに作成されます。既存のリソースグループを使用する場合は、このステップをスキップしてください。"
   ]
  },
  {
   "cell_type": "code",
   "execution_count": null,
   "metadata": {},
   "outputs": [],
   "source": [
    "resource_group_stdout = ! az group create --name {resource_group_name} --location {resource_group_location}\n",
    "if resource_group_stdout.n.startswith(\"ERROR\"):\n",
    "    print(resource_group_stdout)\n",
    "else:\n",
    "    print(\"✅ Azure Resource Group \", resource_group_name, \" created ⌚ \", datetime.datetime.now().time())"
   ]
  },
  {
   "cell_type": "markdown",
   "metadata": {},
   "source": [
    "<a id='2'></a>\n",
    "### 2️⃣ 🦾 Bicepを使用したデプロイの作成\n",
    "\n",
    "このラボでは、[Bicep](https://learn.microsoft.com/en-us/azure/azure-resource-manager/bicep/overview?tabs=bicep)を使用して、デプロイされるすべてのリソースを宣言的に定義します。異なる構成を試すために、パラメータや[main.bicep](main.bicep)を直接変更してください。"
   ]
  },
  {
   "cell_type": "code",
   "execution_count": null,
   "metadata": {},
   "outputs": [],
   "source": [
    "if len(openai_resources) > 0:\n",
    "    backend_id = openai_backend_pool if len(openai_resources) > 1 else openai_resources[0].get(\"name\")\n",
    "elif len(mock_webapps) > 0:\n",
    "    backend_id = mock_backend_pool if len(mock_backend_pool) > 1 else mock_webapps[0].get(\"name\")\n",
    "\n",
    "with open(\"policy.xml\", 'r') as policy_xml_file:\n",
    "    policy_template_xml = policy_xml_file.read()\n",
    "    policy_xml = policy_template_xml.replace(\"{backend-id}\", backend_id).replace(\"{eventhub-logger-name}\", eventhub_logger_name)\n",
    "    policy_xml_file.close()\n",
    "open(\"policy.xml\", 'w').write(policy_xml)\n",
    "\n",
    "bicep_parameters = {\n",
    "  \"$schema\": \"https://schema.management.azure.com/schemas/2019-04-01/deploymentParameters.json#\",\n",
    "  \"contentVersion\": \"1.0.0.0\",\n",
    "  \"parameters\": {\n",
    "    \"mockWebApps\": { \"value\": mock_webapps },\n",
    "    \"mockBackendPoolName\": { \"value\": mock_backend_pool },\n",
    "    \"openAIBackendPoolName\": { \"value\": openai_backend_pool },\n",
    "    \"openAIConfig\": { \"value\": openai_resources },\n",
    "    \"openAIDeploymentName\": { \"value\": openai_deployment_name },\n",
    "    \"openAISku\": { \"value\": openai_resources_sku },\n",
    "    \"openAIModelName\": { \"value\": openai_model_name },\n",
    "    \"openAIModelVersion\": { \"value\": openai_model_version },\n",
    "    \"openAIAPISpecURL\": { \"value\": openai_specification_url },\n",
    "    \"apimResourceName\": { \"value\": apim_resource_name},\n",
    "    \"apimResourceLocation\": { \"value\": apim_resource_location},\n",
    "    \"apimSku\": { \"value\": apim_resource_sku},\n",
    "    \"logAnalyticsName\": { \"value\": log_analytics_name },\n",
    "    \"applicationInsightsName\": { \"value\": app_insights_name },\n",
    "    \"eventHubNamespaceName\": { \"value\": eventhub_namespace_name },\n",
    "    \"eventHubLoggerName\": { \"value\": eventhub_logger_name },\n",
    "    \"eventHubName\": { \"value\": eventhub_name },\n",
    "    \"streamingJobsName\": { \"value\": streamingjobs_name },\n",
    "    \"cosmosDBAccountName\": { \"value\": cosmosdb_account_name },\n",
    "    \"cosmosDBDatabaseName\": { \"value\": cosmosdb_database_name },\n",
    "    \"cosmosDBContainerName\": { \"value\": cosmosdb_container_name }\n",
    "  }\n",
    "}\n",
    "with open('params.json', 'w') as bicep_parameters_file:\n",
    "    bicep_parameters_file.write(json.dumps(bicep_parameters))\n",
    "\n",
    "! az deployment group create --name {deployment_name} --resource-group {resource_group_name} --template-file \"main.bicep\" --parameters \"params.json\"\n",
    "\n",
    "open(\"policy.xml\", 'w').write(policy_template_xml)\n"
   ]
  },
  {
   "cell_type": "markdown",
   "metadata": {},
   "source": [
    "<a id='3'></a>\n",
    "### 3️⃣ デプロイの出力を取得\n",
    "\n",
    "テストの準備が整う前に、ゲートウェイURLとサブスクリプションを取得する必要があります。"
   ]
  },
  {
   "cell_type": "code",
   "execution_count": null,
   "metadata": {},
   "outputs": [],
   "source": [
    "deployment_stdout = ! az deployment group show --name {deployment_name} -g {resource_group_name} --query properties.outputs.apimSubscriptionKey.value -o tsv\n",
    "apim_subscription_key = deployment_stdout.n\n",
    "deployment_stdout = ! az deployment group show --name {deployment_name} -g {resource_group_name} --query properties.outputs.apimResourceGatewayURL.value -o tsv\n",
    "apim_resource_gateway_url = deployment_stdout.n\n",
    "print(\"👉🏻 API Gateway URL: \", apim_resource_gateway_url)\n",
    "\n",
    "deployment_stdout = ! az deployment group show --name {deployment_name} -g {resource_group_name} --query properties.outputs.logAnalyticsWorkspaceId.value -o tsv\n",
    "workspace_id = deployment_stdout.n\n",
    "print(\"👉🏻 Workspace ID: \", workspace_id)\n",
    "\n",
    "deployment_stdout = ! az deployment group show --name {deployment_name} -g {resource_group_name} --query properties.outputs.applicationInsightsAppId.value -o tsv\n",
    "app_id = deployment_stdout.n\n",
    "print(\"👉🏻 App ID: \", app_id)\n",
    "\n",
    "deployment_stdout = ! az deployment group show --name {deployment_name} -g {resource_group_name} --query properties.outputs.cosmosDBConnectionString.value -o tsv\n",
    "cosmosdb_connection_string = deployment_stdout.n\n",
    "\n"
   ]
  },
  {
   "cell_type": "markdown",
   "metadata": {},
   "source": [
    "<a id='requests'></a>\n",
    "### 🧪 直接HTTPコールを使用したAPIのテスト\n",
    "Requestsは、ここで生のAPIリクエストを行い、レスポンスを検査するために使用される、エレガントでシンプルなPython用のHTTPライブラリです。"
   ]
  },
  {
   "cell_type": "code",
   "execution_count": null,
   "metadata": {},
   "outputs": [],
   "source": [
    "import time\n",
    "runs = 2\n",
    "sleep_time_ms = 1000\n",
    "\n",
    "url = apim_resource_gateway_url + \"/openai/deployments/\" + openai_deployment_name + \"/chat/completions?api-version=\" + openai_api_version\n",
    "\n",
    "for i in range(runs):\n",
    "    print(\"▶️ Run: \", i+1)\n",
    "    if len(openai_resources) > 0:\n",
    "        messages={\"messages\":[\n",
    "            {\"role\": \"system\", \"content\": \"You are a sarcastic unhelpful assistant.\"},\n",
    "            {\"role\": \"user\", \"content\": \"Can you tell me the time, please?\"}\n",
    "        ]}\n",
    "    elif len(mock_webapps) > 0:\n",
    "        messages={\n",
    "            \"messages\": [\n",
    "                {\n",
    "                    \"role\": \"system\", \n",
    "                    \"content\": {\n",
    "                        \"simulation\": {\n",
    "                            \"default\": {\"response_status_code\": 200, \"wait_time_ms\": 0},\n",
    "                            \"openaimock1.azurewebsites.net\": {\"response_status_code\": 429}\n",
    "                        }\n",
    "                    }\n",
    "                }\n",
    "            ]\n",
    "        }\n",
    "    response = requests.post(url, headers = {'api-key':apim_subscription_key}, json = messages)\n",
    "    print(\"status code: \", response.status_code)\n",
    "    print(\"headers \", response.headers)\n",
    "    print(\"x-ms-region: \", response.headers.get(\"x-ms-region\")) # this header is useful to determine the region of the backend that served the request\n",
    "    if (response.status_code == 200):\n",
    "        data = json.loads(response.text)\n",
    "        # print(json.dumps(data, indent=4))\n",
    "        print(\"response: \", data.get(\"choices\")[0].get(\"message\").get(\"content\"))\n",
    "    else:\n",
    "        print(response.text)\n",
    "    time.sleep(sleep_time_ms/1000)\n"
   ]
  },
  {
   "cell_type": "markdown",
   "metadata": {},
   "source": [
    "<a id='sdk'></a>\n",
    "### 🧪 Azure OpenAI Python SDKを使用したAPIのテスト\n",
    "OpenAPIは広く使用されている[Pythonライブラリ](https://github.com/openai/openai-python)を提供しています。このライブラリには、すべてのリクエストパラメータとレスポンスフィールドの型定義が含まれています。このテストの目的は、APIMがOpenAIへのリクエストをシームレスにプロキシし、その機能を妨げることなく動作することを確認することです。\n",
    "- 注意: このステップを実行する前に、ターミナルで```pip install openai```を実行してください。"
   ]
  },
  {
   "cell_type": "code",
   "execution_count": null,
   "metadata": {},
   "outputs": [],
   "source": [
    "import time\n",
    "runs = 2\n",
    "sleep_time_ms = 1000\n",
    "\n",
    "for i in range(runs):\n",
    "    print(\"▶️ Run: \", i+1)\n",
    "    from openai import AzureOpenAI\n",
    "    if len(openai_resources) > 0:\n",
    "        messages=[\n",
    "            {\"role\": \"system\", \"content\": \"You are a sarcastic unhelpful assistant.\"},\n",
    "            {\"role\": \"user\", \"content\": \"Can you tell me the time, please?\"}\n",
    "        ]\n",
    "    elif len(mock_webapps) > 0:\n",
    "        messages=[\n",
    "                {\n",
    "                    \"role\": \"system\", \n",
    "                    \"content\": {\n",
    "                        \"simulation\": {\n",
    "                            \"default\": {\"response_status_code\": 200, \"wait_time_ms\": 0},\n",
    "                            \"openaimock1.azurewebsites.net\": {\"response_status_code\": 429}\n",
    "                        }\n",
    "                    }\n",
    "                }\n",
    "            ]\n",
    "    client = AzureOpenAI(\n",
    "        azure_endpoint=apim_resource_gateway_url,\n",
    "        api_key=apim_subscription_key,\n",
    "        api_version=openai_api_version\n",
    "    )\n",
    "    response = client.chat.completions.create(model=openai_model_name, messages=messages)\n",
    "    print(response.choices[0].message.content)\n",
    "    time.sleep(sleep_time_ms/1000)\n"
   ]
  },
  {
   "cell_type": "markdown",
   "metadata": {},
   "source": [
    "<a id='cosmosdb'></a>\n",
    "### 🔍 CosmosDBアイテムの分析\n",
    "\n",
    "以下のスクリプトを実行する前に、`pip install azure-cosmos`を実行してください。"
   ]
  },
  {
   "cell_type": "code",
   "execution_count": null,
   "metadata": {
    "metadata": {}
   },
   "outputs": [],
   "source": [
    "import pandas as pd\n",
    "from azure.core.exceptions import AzureError\n",
    "from azure.cosmos import CosmosClient, PartitionKey\n",
    "\n",
    "client = CosmosClient.from_connection_string(conn_str=cosmosdb_connection_string)\n",
    "database = client.get_database_client(cosmosdb_database_name)\n",
    "container = database.get_container_client(cosmosdb_container_name)\n",
    "\n",
    "item_list = list(container.read_all_items(max_item_count=10))\n",
    "\n",
    "print('Found {0} items'.format(item_list.__len__()))\n",
    "\n",
    "df = pd.DataFrame(container.query_items('select c.timestamp, c.model, c.modelRegion, c.apimRequestId, c.clientIp, c.totalTokens, c.request, c.response from c',enable_cross_partition_query=True))\n",
    "df\n"
   ]
  },
  {
   "cell_type": "markdown",
   "metadata": {},
   "source": [
    "<a id='fabric'></a>\n",
    "### 📊 インサイトの抽出とデータの可視化\n",
    "\n",
    "![リアルタイムインテリジェンス](https://learn.microsoft.com/en-us/fabric/real-time-intelligence/media/overview/overview-schematic.png)\n",
    "\n",
    "- Event Hubにデータがあるので、Microsoft Fabricの[Eventstream](https://learn.microsoft.com/en-us/fabric/real-time-intelligence/event-streams/add-source-azure-event-hubs?pivots=enhanced-capabilities)を作成し、Event Hubに接続して、OpenAI APIコールを取り込み、処理、分析、変換し、[リアルタイムインテリジェンス](https://learn.microsoft.com/en-us/fabric/real-time-intelligence/overview)を使用してアクションを実行できます。\n",
    "- また、[Cosmos DBミラーリング](https://learn.microsoft.com/en-us/fabric/database/mirrored-database/azure-cosmos-db)を使用して、Cosmos DBデータをほぼリアルタイムでFabric OneLakeに継続的にレプリケートすることもできます。"
   ]
  },
  {
   "cell_type": "markdown",
   "metadata": {},
   "source": [
    "<a id='clean'></a>\n",
    "### 🗑️ リソースのクリーンアップ\n",
    "\n",
    "ラボが終了したら、追加の料金を避け、Azureサブスクリプションを整理するために、デプロイしたすべてのリソースをAzureから削除する必要があります。\n",
    "そのためには、[リソースのクリーンアップノートブック](clean-up-resources.ipynb)を使用してください。"
   ]
  },
  {
   "cell_type": "markdown",
   "metadata": {},
   "source": []
  }
 ],
 "metadata": {
  "kernelspec": {
   "display_name": "Python 3",
   "language": "python",
   "name": "python3"
  },
  "language_info": {
   "codemirror_mode": {
    "name": "ipython",
    "version": 3
   },
   "file_extension": ".py",
   "mimetype": "text/x-python",
   "name": "python",
   "nbconvert_exporter": "python",
   "pygments_lexer": "ipython3",
   "version": "3.12.2"
  }
 },
 "nbformat": 4,
 "nbformat_minor": 2
}
