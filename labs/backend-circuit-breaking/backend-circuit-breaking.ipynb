{
 "cells": [
  {
   "cell_type": "markdown",
   "metadata": {},
   "source": [
    "# APIM ❤️ OpenAI\n",
    "\n",
    "## バックエンドサーキットブレーカラボ\n",
    "![flow](../../images/backend-circuit-breaking.gif)\n",
    "\n",
    "Azure OpenAIエンドポイントまたはモックサーバーに対して、APIMの組み込み[バックエンドサーキットブレーカ機能](https://learn.microsoft.com/en-us/azure/api-management/backends?tabs=bicep)を試すためのプレイグラウンド。\n",
    "\n",
    "### 前提条件\n",
    "- [Python 3.8以降のバージョン](https://www.python.org/)がインストールされていること\n",
    "- [VS Code](https://code.visualstudio.com/)がインストールされ、[Jupyterノートブック拡張機能](https://marketplace.visualstudio.com/items?itemName=ms-toolsai.jupyter)が有効になっていること\n",
    "- [Azure CLI](https://learn.microsoft.com/en-us/cli/azure/install-azure-cli)がインストールされていること\n",
    "- Contributor権限を持つ[Azureサブスクリプション](https://azure.microsoft.com/en-us/free/)があること\n",
    "- [Azure OpenAIへのアクセス](https://aka.ms/oai/access)が許可されていること、またはモックサービスを有効にすること\n",
    "- [Azure CLIでAzureにサインイン](https://learn.microsoft.com/en-us/cli/azure/authenticate-azure-cli-interactively)していること"
   ]
  },
  {
   "cell_type": "markdown",
   "metadata": {},
   "source": [
    "### 0️⃣ ノートブック変数の初期化\n",
    "このラボを実際のAzure OpenAIエンドポイントで使用する場合は、```mock_disabled``` 変数を ```True``` に設定し、モックサーバーで同等の動作をシミュレートする場合は ```False``` に設定します。\n",
    "- ```mock_webapps``` 変数は、モック機能のためにデプロイされたWebアプリのリストを設定します。\n",
    "- ロケーションパラメータは、[Azureリージョンごとの製品の利用可能性](https://azure.microsoft.com/en-us/explore/global-infrastructure/products-by-region/?cdn=disable&products=cognitive-services,api-management)に基づいて調整してください。\n",
    "- OpenAIモデルとバージョンは、[リージョンごとの利用可能性](https://learn.microsoft.com/en-us/azure/ai-services/openai/concepts/models)に基づいて調整してください。"
   ]
  },
  {
   "cell_type": "code",
   "execution_count": null,
   "metadata": {
    "metadata": {}
   },
   "outputs": [],
   "source": [
    "import os\n",
    "import json\n",
    "import datetime\n",
    "import requests\n",
    "notebook_path = os.path.abspath(\"\")\n",
    "notebook_name = os.path.basename(globals()['__vsc_ipynb_file__'])\n",
    "\n",
    "lab_prefix = \"av4\" # used to ensure unique names within Azure\n",
    "mock_disabled = True\n",
    "mock_webapps = [{\"name\": \"openaimock1\"}] # ensure that the names are not being used within Azure\n",
    "resource_group = \"lab-ai-gateway\"\n",
    "apim_resource_name = lab_prefix + \"-aigw-apim\"\n",
    "apim_resource_location = \"eastus\"\n",
    "apim_resource_sku = \"Consumption\"\n",
    "openai_resources = [ {\"name\": lab_prefix + \"-aigw-openai1\", \"location\": \"eastus\"}]\n",
    "openai_resource_sku = \"S0\"\n",
    "openai_model_name = \"gpt-35-turbo\"\n",
    "openai_model_version = \"0613\"\n",
    "openai_deployment_name = \"gpt-35-turbo\"\n",
    "openai_api_version = \"2024-02-01\"\n",
    "openai_specification_url='https://raw.githubusercontent.com/Azure/azure-rest-api-specs/main/specification/cognitiveservices/data-plane/AzureOpenAI/inference/stable/' + openai_api_version + '/inference.json'"
   ]
  },
  {
   "cell_type": "markdown",
   "metadata": {},
   "source": [
    "### 1️⃣ Azureリソースグループの作成\n",
    "このラボでデプロイされるすべてのリソースは、指定されたリソースグループに作成されます。"
   ]
  },
  {
   "cell_type": "code",
   "execution_count": null,
   "metadata": {
    "metadata": {}
   },
   "outputs": [],
   "source": [
    "resource_group_stdout = ! az group create --name {resource_group} --location {apim_resource_location}\n",
    "if resource_group_stdout.n.startswith(\"ERROR\"):\n",
    "    print(resource_group_stdout)\n",
    "else:\n",
    "    print(\"✅ Azure Resource Group \", resource_group, \" created ⌚ \", datetime.datetime.now().time())"
   ]
  },
  {
   "cell_type": "markdown",
   "metadata": {},
   "source": [
    "### 2️⃣ Azure OpenAIリソースの作成\n",
    "Azure OpenAIサービスは、OpenAIの強力な言語モデルへのREST APIアクセスを提供します。以下のスクリプトは[このクイックスタート](https://learn.microsoft.com/en-us/azure/ai-services/openai/how-to/create-resource?pivots=cli)に基づいており、新しいAzure OpenAIリソースを作成します。\n",
    "- 注意: 既存のリソースを再利用したい場合は、このステップをスキップしてください。"
   ]
  },
  {
   "cell_type": "code",
   "execution_count": null,
   "metadata": {
    "metadata": {}
   },
   "outputs": [],
   "source": [
    "if mock_disabled:\n",
    "    openai_resource_name = openai_resources[0].get(\"name\")\n",
    "    openai_resource_location = openai_resources[0].get(\"location\")\n",
    "    openai_resource_stdout = ! az cognitiveservices account create --name {openai_resource_name} --resource-group {resource_group} \\\n",
    "                --kind OpenAI --sku-name {openai_resource_sku} --location {openai_resource_location} --custom-domain {openai_resource_name}\n",
    "    if openai_resource_stdout.n.startswith(\"ERROR\"):\n",
    "        print(openai_resource_stdout)\n",
    "    else:\n",
    "        print(\"✅ Azure OpenAI resource created ⌚ \", datetime.datetime.now().time())\n",
    "else:\n",
    "    print(\"🚧 Mock enabled, skipping Azure OpenAI resource creation\")"
   ]
  },
  {
   "cell_type": "markdown",
   "metadata": {},
   "source": [
    "### 3️⃣ モデルのデプロイ\n",
    "Azure OpenAIリソースを作成したら、APIコールを開始する前にモデルをデプロイする必要があります。以下のスクリプトは、指定されたデプロイ名、モデル名、およびモデルバージョンを使用してモデルデプロイメントを作成します。"
   ]
  },
  {
   "cell_type": "code",
   "execution_count": null,
   "metadata": {
    "metadata": {}
   },
   "outputs": [],
   "source": [
    "if mock_disabled:\n",
    "    openai_resource_name = openai_resources[0].get(\"name\")\n",
    "    openai_deployment_stdout = ! az cognitiveservices account deployment create --name {openai_resource_name} --resource-group  {resource_group} \\\n",
    "        --deployment-name {openai_deployment_name} --model-name {openai_model_name} --model-version {openai_model_version}  --model-format OpenAI \n",
    "    if openai_deployment_stdout.n.startswith(\"ERROR\"):\n",
    "        print(openai_deployment_stdout)\n",
    "    else:\n",
    "        print(\"✅ OpenAI deployment created ⌚ \", datetime.datetime.now().time())\n",
    "else:\n",
    "    print(\"🚧 Mock enabled, skipping OpenAI deployment creation\")"
   ]
  },
  {
   "cell_type": "markdown",
   "metadata": {},
   "source": [
    "### 4️⃣ API Management (APIM) リソースの作成\n",
    "APIMはOpenAI APIのAIゲートウェイとして機能します。以下のスクリプトは[このクイックスタート](https://learn.microsoft.com/en-us/azure/api-management/get-started-create-service-instance-cli)に基づいています。\n",
    "- 注意: 既存のインスタンスを再利用したい場合は、このステップをスキップしてください。"
   ]
  },
  {
   "cell_type": "code",
   "execution_count": null,
   "metadata": {
    "metadata": {}
   },
   "outputs": [],
   "source": [
    "apim_resource_stdout = ! az apim create -g {resource_group} -n {apim_resource_name} -l {apim_resource_location} \\\n",
    "    --sku-name {apim_resource_sku} --publisher-email noreply@microsoft.com --publisher-name Microsoft --enable-managed-identity\n",
    "if apim_resource_stdout.n.startswith(\"ERROR\"):\n",
    "    print(apim_resource_stdout)\n",
    "else:\n",
    "    print(\"✅ Azure API Management resource created ⌚ \", datetime.datetime.now().time())\n"
   ]
  },
  {
   "cell_type": "markdown",
   "metadata": {},
   "source": [
    "### 5️⃣ API Management (APIM) リソースの詳細を取得\n",
    "APIMインスタンスは、[管理されたAPIゲートウェイ](https://learn.microsoft.com/en-us/azure/api-management/api-management-gateways-overview)、[システム管理アイデンティティ](https://learn.microsoft.com/en-us/azure/api-management/api-management-howto-use-managed-service-identity)、およびマスター[サブスクリプションキー](https://learn.microsoft.com/en-us/azure/api-management/api-management-subscriptions)を提供します。このラボではマスターサブスクリプションキーを使用しますが、本番環境ではAPI消費者のために新しいサブスクリプションキーを作成する必要があります。"
   ]
  },
  {
   "cell_type": "code",
   "execution_count": null,
   "metadata": {
    "metadata": {}
   },
   "outputs": [],
   "source": [
    "apim_resource_stdout = ! az apim show -g {resource_group} -n {apim_resource_name}\n",
    "apim_resource = json.loads(apim_resource_stdout.n)\n",
    "apim_resource_id = apim_resource.get(\"id\")\n",
    "apim_resource_gateway_url = apim_resource.get(\"gatewayUrl\")\n",
    "apim_managed_identity = apim_resource.get(\"identity\").get(\"principalId\")\n",
    "apim_subscription_key = ! az rest --method POST --uri {apim_resource_id}/subscriptions/master/listSecrets?api-version=2022-08-01 --query primaryKey -o tsv\n",
    "apim_subscription_key = apim_subscription_key.n\n",
    "print(\"👉🏻 API Gateway URL: \", apim_resource_gateway_url)"
   ]
  },
  {
   "cell_type": "markdown",
   "metadata": {},
   "source": [
    "### 6️⃣ APIMがOpenAI APIにアクセスできるようにロールを割り当てる\n",
    "このラボでは、[Azureマネージドアイデンティティ](https://learn.microsoft.com/en-us/azure/ai-services/openai/how-to/managed-identity)を使用したキーなしアプローチのゼロトラストセキュリティ戦略を採用しています。以下のスクリプトは、APIMのマネージドアイデンティティに「Cognitive Services OpenAI User」ロールを割り当て、OpenAI APIにアクセスできるようにします。"
   ]
  },
  {
   "cell_type": "code",
   "execution_count": null,
   "metadata": {
    "metadata": {}
   },
   "outputs": [],
   "source": [
    "if mock_disabled:\n",
    "    openai_resource_name = openai_resources[0].get(\"name\")\n",
    "    openai_resource_stdout = ! az cognitiveservices account show --name {openai_resource_name} --resource-group {resource_group}\n",
    "    openai_resource = json.loads(openai_resource_stdout.n)\n",
    "    openai_resource_id = openai_resource.get(\"id\")\n",
    "    role_assignment_stdout = ! az role assignment create --assignee {apim_managed_identity} \\\n",
    "        --role \"Cognitive Services OpenAI User\" \\\n",
    "        --scope {openai_resource_id}\n",
    "    if role_assignment_stdout.n.startswith(\"ERROR\"):\n",
    "        print(role_assignment_stdout)\n",
    "    else:\n",
    "        print(\"✅ Role assignment created ⌚ \", datetime.datetime.now().time())\n",
    "else:\n",
    "    print(\"🚧 Mock enabled, skipping Role assignment\")"
   ]
  },
  {
   "cell_type": "markdown",
   "metadata": {},
   "source": [
    "### 7️⃣ サーキットブレーカ構成を持つAPIMバックエンドの作成\n",
    "サーキットブレーカ機能はプレビュー段階にあるため、このスクリプトはGA（一般提供）時に更新される可能性があります。詳細については[このドキュメント](https://learn.microsoft.com/en-us/azure/api-management/backends?tabs=bicep)を確認してください。\n",
    "- 注意: ```interval``` および ```tripDuration``` パラメータはISO Timespan形式である必要があります。以下の例では、5分間の間に3つ以上の429ステータスコードが発生するとサーキットブレーカが作動します。サーキットブレーカは1分後にリセットされます。"
   ]
  },
  {
   "cell_type": "code",
   "execution_count": null,
   "metadata": {
    "metadata": {}
   },
   "outputs": [],
   "source": [
    "if mock_disabled:\n",
    "    openai_resource_name = openai_resources[0].get(\"name\")\n",
    "    openai_resource_stdout = ! az cognitiveservices account show --name {openai_resource_name} --resource-group {resource_group}\n",
    "    openai_resource = json.loads(openai_resource_stdout.n)\n",
    "    openai_resource_endpoint = openai_resource.get(\"properties\").get(\"endpoint\")\n",
    "    print(\"👉🏻 Azure OpenAI endpoint: \", openai_resource_endpoint)    \n",
    "    backend_properties = {\n",
    "        \"properties\": {\n",
    "            \"title\": openai_resource_name + \" backend\",\n",
    "            \"url\": openai_resource_endpoint + \"/openai\",\n",
    "            \"description\": \"Backend for OpenAI resource \" + openai_resource_name,\n",
    "            \"protocol\": \"http\",\n",
    "            \"circuitBreaker\": {\n",
    "                \"rules\": [\n",
    "                    {\n",
    "                        \"failureCondition\": {\n",
    "                            \"count\": 3,\n",
    "                            \"errorReasons\": [\n",
    "                                \"Server errors\"\n",
    "                            ],\n",
    "                            \"interval\": \"PT5M\",\n",
    "                            \"statusCodeRanges\": [\n",
    "                                {\n",
    "                                \"min\": 429,\n",
    "                                \"max\": 429\n",
    "                                }\n",
    "                            ]\n",
    "                        },\n",
    "                        \"name\": \"myBreakerRule\",\n",
    "                        \"tripDuration\": \"PT1M\"\n",
    "                    }\n",
    "                ]\n",
    "            }\n",
    "        }\n",
    "    }\n",
    "    uri = apim_resource_id + \"/backends/\" + openai_resource_name + \"?api-version=2023-05-01-preview\"\n",
    "    backend_properties_text = \"\\\"\" + json.dumps(backend_properties).replace(\"\\\"\",\"\\\\\\\"\") + \"\\\"\"\n",
    "    backend_creation_stdout = ! az rest --method PUT --uri {uri} --body {backend_properties_text}\n",
    "    if backend_creation_stdout.n.startswith(\"ERROR\"):\n",
    "        print(backend_creation_stdout)\n",
    "    else:\n",
    "        print(\"✅ Backend \", openai_resource_name,\" created ⌚ \", datetime.datetime.now().time())    \n",
    "else:\n",
    "    mock_webapp_name = mock_webapps[0].get(\"name\")\n",
    "    openai_resource_endpoint = \"https://\" + mock_webapp_name + \".azurewebsites.net\"\n",
    "    print(\"🚧 Mock enabled, using Mock endpoint instead of Azure OpenAI endpoint: \", openai_resource_endpoint)\n",
    "    backend_properties = {\n",
    "        \"properties\": {\n",
    "            \"title\": mock_webapp_name + \" backend\",\n",
    "            \"url\": openai_resource_endpoint + \"/openai\",\n",
    "            \"description\": \"Backend for Mock server \" + mock_webapp_name,\n",
    "            \"protocol\": \"http\",\n",
    "            \"circuitBreaker\": {\n",
    "                \"rules\": [\n",
    "                    {\n",
    "                        \"failureCondition\": {\n",
    "                            \"count\": 3,\n",
    "                            \"errorReasons\": [\n",
    "                                \"Server errors\"\n",
    "                            ],\n",
    "                            \"interval\": \"PT5M\",\n",
    "                            \"statusCodeRanges\": [\n",
    "                                {\n",
    "                                \"min\": 429,\n",
    "                                \"max\": 429\n",
    "                                }\n",
    "                            ]\n",
    "                        },\n",
    "                        \"name\": \"myBreakerRule\",\n",
    "                        \"tripDuration\": \"PT1M\"\n",
    "                    }\n",
    "                ]\n",
    "            }\n",
    "        }\n",
    "    }\n",
    "    uri = apim_resource_id + \"/backends/\" + mock_webapp_name + \"?api-version=2023-05-01-preview\"\n",
    "    backend_properties_text = \"\\\"\" + json.dumps(backend_properties).replace(\"\\\"\",\"\\\\\\\"\") + \"\\\"\"\n",
    "    backend_creation_stdout = ! az rest --method PUT --uri {uri} --body {backend_properties_text}\n",
    "    if backend_creation_stdout.n.startswith(\"ERROR\"):\n",
    "        print(backend_creation_stdout)\n",
    "    else:\n",
    "        print(\"✅ Backend \", mock_webapp_name,\" created ⌚ \", datetime.datetime.now().time())    \n"
   ]
  },
  {
   "cell_type": "markdown",
   "metadata": {},
   "source": [
    "### 8️⃣ OpenAI APIをAPIMにインポートする\n",
    "以下のスクリプトは、[公開されている](https://github.com/Azure/azure-rest-api-specs/tree/main/specification/cognitiveservices/data-plane/AzureOpenAI/inference/stable)json OpenAPI仕様を使用してOpenAI推論APIをインポートします。サブスクリプションキーのヘッダー名は、OpenAI APIで使用されるのと同じ名前である```api-key```に設定されます。"
   ]
  },
  {
   "cell_type": "code",
   "execution_count": null,
   "metadata": {
    "metadata": {}
   },
   "outputs": [],
   "source": [
    "if mock_disabled:\n",
    "    openai_resource_stdout = ! az cognitiveservices account show --name {openai_resource_name} --resource-group {resource_group}\n",
    "    openai_resource = json.loads(openai_resource_stdout.n)\n",
    "    openai_resource_endpoint = openai_resource.get(\"properties\").get(\"endpoint\")\n",
    "    print(\"👉🏻 OpenAI endpoint: \", openai_resource_endpoint)    \n",
    "else:\n",
    "    openai_resource_endpoint = \"https://\" + mock_webapps[0].get(\"name\") + \".azurewebsites.net\" # this lab dosn't implement load balancing\n",
    "    print(\"🚧 Mock enabled, using Mock endpoint instead of Azure OpenAI endpoint: \", openai_resource_endpoint)\n",
    "apim_api_import_stdout = ! az apim api import --resource-group {resource_group} --service-name {apim_resource_name} \\\n",
    "        --api-id \"openai\" --path \"openai\" --api-type \"http\" --display-name \"OpenAI\" --description \"OpenAI inference API\" \\\n",
    "        --service-url {openai_resource_endpoint}\"/openai\" --protocols \"https\" \\\n",
    "        --specification-format OpenApiJson --specification-url {openai_specification_url} \\\n",
    "        --subscription-required true --subscription-key-header-name \"api-key\" --subscription-key-query-param-name \"api-key\"\n",
    "if apim_api_import_stdout.n.startswith(\"ERROR\"):\n",
    "    print(apim_api_import_stdout)\n",
    "else:\n",
    "    print(\"✅ API imported on \", datetime.datetime.now().time())"
   ]
  },
  {
   "cell_type": "markdown",
   "metadata": {},
   "source": [
    "### 8️⃣ APIポリシーを更新して自己管理アイデンティティを取得し、Azure OpenAIに認証するためのベアラートークンを送信する\n",
    "APIポリシーには、割り当てられたマネージドアイデンティティを使用してAzure OpenAI APIへのリクエストを認証するための[ドキュメント化されたポリシースニペット](https://learn.microsoft.com/en-us/azure/api-management/api-management-authenticate-authorize-azure-openai#authenticate-with-managed-identity)を含める必要があります。\n",
    "- 注意: Azure CLIを通じてポリシーを追加する機能は[まだ利用できません](https://github.com/Azure/azure-cli/issues/14695)。そのため、代わりに```az rest```コマンドを使用しています。"
   ]
  },
  {
   "cell_type": "code",
   "execution_count": null,
   "metadata": {
    "metadata": {}
   },
   "outputs": [],
   "source": [
    "if mock_disabled:\n",
    "    backend_id = openai_resources[0].get(\"name\")\n",
    "else:\n",
    "    backend_id = mock_webapps[0].get(\"name\")\n",
    "with open(notebook_path + \"/policy.xml\", 'r') as policy_xml_file:\n",
    "    policy_xml = policy_xml_file.read()\n",
    "    policy_xml = policy_xml.replace(\"{backend-id}\", backend_id)\n",
    "with open(notebook_name.replace('ipynb','json'), 'w') as policy_json_file:\n",
    "    policy_json_file.write(\"{\\\"properties\\\":{\\\"value\\\":\\\"\" + policy_xml.replace(\"\\\"\",\"\\\\\\\"\") + \"\\\"} }\")\n",
    "uri = apim_resource_id + \"/apis/openai/policies/policy?api-version=2022-09-01-preview\"\n",
    "body_file_path = \"@\" + notebook_path + \"/\" + notebook_name.replace('ipynb','json')\n",
    "apim_policy_stdout = ! az rest --method PUT --uri {uri} --body {body_file_path}\n",
    "os.remove(notebook_name.replace('ipynb','json'))\n",
    "print(\"✅ Policy updated ⌚ \", datetime.datetime.now().time())"
   ]
  },
  {
   "cell_type": "markdown",
   "metadata": {},
   "source": [
    "### 🧪 直接HTTPコールを使用したAPIのテスト\n",
    "Requestsは、ここで生のAPIリクエストを行い、レスポンスを検査するために使用される、エレガントでシンプルなPython用のHTTPライブラリです。"
   ]
  },
  {
   "cell_type": "code",
   "execution_count": null,
   "metadata": {
    "metadata": {}
   },
   "outputs": [],
   "source": [
    "url = apim_resource_gateway_url + \"/openai/deployments/\" + openai_deployment_name + \"/chat/completions?api-version=\" + openai_api_version\n",
    "if mock_disabled:\n",
    "    messages={\"messages\":[\n",
    "        {\"role\": \"system\", \"content\": \"You are a sarcastic unhelpful assistant.\"},\n",
    "        {\"role\": \"user\", \"content\": \"Can you tell me the time, please?\"}\n",
    "    ]}\n",
    "else:\n",
    "    messages={\n",
    "        \"messages\": [\n",
    "            {\n",
    "                \"role\": \"system\", \n",
    "                \"content\": {\n",
    "                    \"simulation\": {\n",
    "                        \"default\": {\"response_status_code\": 200, \"wait_time_ms\": 0},\n",
    "                        \"openaimock1.azurewebsites.net\": {\"response_status_code\": 429}\n",
    "                    }\n",
    "                }\n",
    "            }\n",
    "        ]\n",
    "    }\n",
    "response = requests.post(url, headers = {'api-key':apim_subscription_key}, json = messages)\n",
    "print(\"status code: \", response.status_code)\n",
    "print(\"headers \", response.headers)\n",
    "if (response.status_code == 200):\n",
    "    data = json.loads(response.text)\n",
    "    print(\"response: \", data.get(\"choices\")[0].get(\"message\").get(\"content\"))\n",
    "else:\n",
    "    print(response.text)"
   ]
  },
  {
   "cell_type": "markdown",
   "metadata": {},
   "source": [
    "### 🧪 Azure OpenAI Python SDKを使用したAPIのテスト\n",
    "OpenAPIは広く使用されている[Pythonライブラリ](https://github.com/openai/openai-python)を提供しています。このライブラリには、すべてのリクエストパラメータとレスポンスフィールドの型定義が含まれています。このテストの目的は、APIMがOpenAIへのリクエストをシームレスにプロキシし、その機能を妨げることなく動作することを確認することです。\n",
    "- 注意: このステップを実行する前に、ターミナルで```pip install openai```を実行してください。"
   ]
  },
  {
   "cell_type": "code",
   "execution_count": null,
   "metadata": {
    "metadata": {}
   },
   "outputs": [],
   "source": [
    "from openai import AzureOpenAI\n",
    "if mock_disabled:\n",
    "    messages=[\n",
    "        {\"role\": \"system\", \"content\": \"You are a sarcastic unhelpful assistant.\"},\n",
    "        {\"role\": \"user\", \"content\": \"Can you tell me the time, please?\"}\n",
    "    ]\n",
    "else:\n",
    "    messages=[\n",
    "            {\n",
    "                \"role\": \"system\", \n",
    "                \"content\": {\n",
    "                    \"simulation\": {\n",
    "                        \"default\": {\"response_status_code\": 200, \"wait_time_ms\": 0}\n",
    "                    }\n",
    "                }\n",
    "            }\n",
    "        ]\n",
    "client = AzureOpenAI(\n",
    "    azure_endpoint=apim_resource_gateway_url,\n",
    "    api_key=apim_subscription_key,\n",
    "    api_version=openai_api_version\n",
    ")\n",
    "response = client.chat.completions.create(model=openai_model_name, messages=messages)\n",
    "print(response.choices[0].message.content)"
   ]
  },
  {
   "cell_type": "markdown",
   "metadata": {},
   "source": [
    "### 🗑️ リソースのクリーンアップ\n",
    "\n",
    "ラボが終了したら、追加の料金を避け、Azureサブスクリプションを整理するために、デプロイしたすべてのリソースをAzureから削除する必要があります。リソースグループを削除するのが、作成したすべてのAzureリソースを削除する最も速い方法です。"
   ]
  },
  {
   "cell_type": "code",
   "execution_count": null,
   "metadata": {
    "metadata": {}
   },
   "outputs": [],
   "source": [
    "run_cell = True\n",
    "if run_cell:\n",
    "    ! az group delete --name {resource_group} -y\n",
    "    ! az apim deletedservice purge --service-name {apim_resource_name} --location {apim_resource_location}\n",
    "    if mock_disabled:\n",
    "        openai_resource_name = openai_resources[0].get(\"name\")\n",
    "        ! az cognitiveservices account purge -g {resource_group} -n {openai_resource_name} -l {openai_resource_location}"
   ]
  }
 ],
 "metadata": {
  "kernelspec": {
   "display_name": "Python 3",
   "language": "python",
   "name": "python3"
  },
  "language_info": {
   "codemirror_mode": {
    "name": "ipython",
    "version": 3
   },
   "file_extension": ".py",
   "mimetype": "text/x-python",
   "name": "python",
   "nbconvert_exporter": "python",
   "pygments_lexer": "ipython3",
   "version": "3.12.3"
  }
 },
 "nbformat": 4,
 "nbformat_minor": 2
}
